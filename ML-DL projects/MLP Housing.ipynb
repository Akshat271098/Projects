{
 "cells": [
  {
   "cell_type": "code",
   "execution_count": 24,
   "id": "bd866081",
   "metadata": {},
   "outputs": [],
   "source": [
    "import tensorflow as tf\n",
    "from tensorflow import keras\n",
    "from sklearn.datasets import fetch_california_housing\n",
    "from sklearn.model_selection import train_test_split\n",
    "from sklearn.preprocessing import StandardScaler\n",
    "import pandas as pd\n",
    "from matplotlib import pyplot as plt\n",
    "import numpy as np"
   ]
  },
  {
   "cell_type": "code",
   "execution_count": 16,
   "id": "4a4f1a9c",
   "metadata": {},
   "outputs": [],
   "source": [
    "housing=fetch_california_housing()\n",
    "x_train_full,x_test,y_train_full,y_test=train_test_split(housing.data,housing.target)\n",
    "x_train,x_valid,y_train,y_valid=train_test_split(x_train_full,y_train_full)"
   ]
  },
  {
   "cell_type": "code",
   "execution_count": 17,
   "id": "5f37955f",
   "metadata": {},
   "outputs": [],
   "source": [
    "scaler=StandardScaler()\n",
    "x_train=scaler.fit_transform(x_train)\n",
    "x_valid=scaler.transform(x_valid)\n",
    "x_test=scaler.transform(x_test)"
   ]
  },
  {
   "cell_type": "code",
   "execution_count": 21,
   "id": "324566fe",
   "metadata": {},
   "outputs": [
    {
     "name": "stdout",
     "output_type": "stream",
     "text": [
      "Model: \"sequential_4\"\n",
      "_________________________________________________________________\n",
      " Layer (type)                Output Shape              Param #   \n",
      "=================================================================\n",
      " dense_9 (Dense)             (None, 50)                450       \n",
      "                                                                 \n",
      " dense_10 (Dense)            (None, 20)                1020      \n",
      "                                                                 \n",
      " dense_11 (Dense)            (None, 1)                 21        \n",
      "                                                                 \n",
      "=================================================================\n",
      "Total params: 1,491\n",
      "Trainable params: 1,491\n",
      "Non-trainable params: 0\n",
      "_________________________________________________________________\n"
     ]
    }
   ],
   "source": [
    "model=keras.models.Sequential([keras.layers.Dense(50,activation=\"relu\",input_shape=x_train.shape[1:]),\n",
    "                               keras.layers.Dense(20,activation=\"relu\"),\n",
    "                              keras.layers.Dense(1)])\n",
    "model.summary() "
   ]
  },
  {
   "cell_type": "code",
   "execution_count": 22,
   "id": "fdbe045c",
   "metadata": {},
   "outputs": [
    {
     "name": "stdout",
     "output_type": "stream",
     "text": [
      "Epoch 1/50\n",
      "363/363 [==============================] - 2s 4ms/step - loss: 1.1852 - accuracy: 0.0028 - val_loss: 0.5449 - val_accuracy: 0.0034\n",
      "Epoch 2/50\n",
      "363/363 [==============================] - 1s 4ms/step - loss: 0.4554 - accuracy: 0.0028 - val_loss: 0.4298 - val_accuracy: 0.0034\n",
      "Epoch 3/50\n",
      "363/363 [==============================] - 1s 3ms/step - loss: 0.4048 - accuracy: 0.0027 - val_loss: 0.4052 - val_accuracy: 0.0034\n",
      "Epoch 4/50\n",
      "363/363 [==============================] - 1s 4ms/step - loss: 0.3828 - accuracy: 0.0028 - val_loss: 0.3814 - val_accuracy: 0.0034\n",
      "Epoch 5/50\n",
      "363/363 [==============================] - 1s 3ms/step - loss: 0.3671 - accuracy: 0.0028 - val_loss: 0.3801 - val_accuracy: 0.0034\n",
      "Epoch 6/50\n",
      "363/363 [==============================] - 1s 3ms/step - loss: 0.3548 - accuracy: 0.0028 - val_loss: 0.3790 - val_accuracy: 0.0034\n",
      "Epoch 7/50\n",
      "363/363 [==============================] - 1s 3ms/step - loss: 0.3442 - accuracy: 0.0028 - val_loss: 0.3572 - val_accuracy: 0.0034\n",
      "Epoch 8/50\n",
      "363/363 [==============================] - 1s 3ms/step - loss: 0.3515 - accuracy: 0.0028 - val_loss: 0.3609 - val_accuracy: 0.0034\n",
      "Epoch 9/50\n",
      "363/363 [==============================] - 1s 3ms/step - loss: 0.3311 - accuracy: 0.0028 - val_loss: 0.3537 - val_accuracy: 0.0034\n",
      "Epoch 10/50\n",
      "363/363 [==============================] - 1s 3ms/step - loss: 0.3248 - accuracy: 0.0028 - val_loss: 0.3366 - val_accuracy: 0.0034\n",
      "Epoch 11/50\n",
      "363/363 [==============================] - 1s 3ms/step - loss: 0.3213 - accuracy: 0.0028 - val_loss: 0.3411 - val_accuracy: 0.0034\n",
      "Epoch 12/50\n",
      "363/363 [==============================] - 1s 3ms/step - loss: 0.3195 - accuracy: 0.0028 - val_loss: 0.3519 - val_accuracy: 0.0034\n",
      "Epoch 13/50\n",
      "363/363 [==============================] - 1s 4ms/step - loss: 0.3556 - accuracy: 0.0028 - val_loss: 0.3293 - val_accuracy: 0.0034\n",
      "Epoch 14/50\n",
      "363/363 [==============================] - 1s 3ms/step - loss: 0.3115 - accuracy: 0.0028 - val_loss: 0.3348 - val_accuracy: 0.0034\n",
      "Epoch 15/50\n",
      "363/363 [==============================] - 1s 3ms/step - loss: 0.3154 - accuracy: 0.0028 - val_loss: 0.3172 - val_accuracy: 0.0034\n",
      "Epoch 16/50\n",
      "363/363 [==============================] - 1s 3ms/step - loss: 0.3048 - accuracy: 0.0028 - val_loss: 0.3188 - val_accuracy: 0.0034\n",
      "Epoch 17/50\n",
      "363/363 [==============================] - 1s 3ms/step - loss: 0.3036 - accuracy: 0.0028 - val_loss: 0.3135 - val_accuracy: 0.0034\n",
      "Epoch 18/50\n",
      "363/363 [==============================] - 2s 4ms/step - loss: 0.3063 - accuracy: 0.0028 - val_loss: 0.3130 - val_accuracy: 0.0034\n",
      "Epoch 19/50\n",
      "363/363 [==============================] - 2s 5ms/step - loss: 0.2985 - accuracy: 0.0028 - val_loss: 0.3133 - val_accuracy: 0.0034\n",
      "Epoch 20/50\n",
      "363/363 [==============================] - 2s 6ms/step - loss: 0.2964 - accuracy: 0.0028 - val_loss: 0.3160 - val_accuracy: 0.0034\n",
      "Epoch 21/50\n",
      "363/363 [==============================] - 1s 4ms/step - loss: 0.2947 - accuracy: 0.0028 - val_loss: 0.3121 - val_accuracy: 0.0034\n",
      "Epoch 22/50\n",
      "363/363 [==============================] - 1s 4ms/step - loss: 0.3032 - accuracy: 0.0028 - val_loss: 0.3077 - val_accuracy: 0.0034\n",
      "Epoch 23/50\n",
      "363/363 [==============================] - 1s 4ms/step - loss: 0.2929 - accuracy: 0.0028 - val_loss: 0.3076 - val_accuracy: 0.0034\n",
      "Epoch 24/50\n",
      "363/363 [==============================] - 1s 4ms/step - loss: 0.2912 - accuracy: 0.0028 - val_loss: 0.3077 - val_accuracy: 0.0034\n",
      "Epoch 25/50\n",
      "363/363 [==============================] - 1s 3ms/step - loss: 0.2876 - accuracy: 0.0028 - val_loss: 0.2969 - val_accuracy: 0.0034\n",
      "Epoch 26/50\n",
      "363/363 [==============================] - 1s 4ms/step - loss: 0.2952 - accuracy: 0.0028 - val_loss: 0.3081 - val_accuracy: 0.0034\n",
      "Epoch 27/50\n",
      "363/363 [==============================] - 1s 3ms/step - loss: 0.2854 - accuracy: 0.0028 - val_loss: 0.3155 - val_accuracy: 0.0034\n",
      "Epoch 28/50\n",
      "363/363 [==============================] - 1s 3ms/step - loss: 0.2866 - accuracy: 0.0028 - val_loss: 0.3027 - val_accuracy: 0.0034\n",
      "Epoch 29/50\n",
      "363/363 [==============================] - 1s 4ms/step - loss: 0.2846 - accuracy: 0.0028 - val_loss: 0.3060 - val_accuracy: 0.0034\n",
      "Epoch 30/50\n",
      "363/363 [==============================] - 1s 4ms/step - loss: 0.2816 - accuracy: 0.0028 - val_loss: 0.3033 - val_accuracy: 0.0034\n",
      "Epoch 31/50\n",
      "363/363 [==============================] - 1s 4ms/step - loss: 0.2816 - accuracy: 0.0028 - val_loss: 0.2974 - val_accuracy: 0.0034\n",
      "Epoch 32/50\n",
      "363/363 [==============================] - 1s 4ms/step - loss: 0.2826 - accuracy: 0.0028 - val_loss: 0.3069 - val_accuracy: 0.0034\n",
      "Epoch 33/50\n",
      "363/363 [==============================] - 1s 3ms/step - loss: 0.2849 - accuracy: 0.0028 - val_loss: 0.3178 - val_accuracy: 0.0034\n",
      "Epoch 34/50\n",
      "363/363 [==============================] - 1s 3ms/step - loss: 0.2967 - accuracy: 0.0028 - val_loss: 0.3108 - val_accuracy: 0.0034\n",
      "Epoch 35/50\n",
      "363/363 [==============================] - 1s 4ms/step - loss: 0.2790 - accuracy: 0.0028 - val_loss: 0.3004 - val_accuracy: 0.0034\n",
      "Epoch 36/50\n",
      "363/363 [==============================] - 2s 4ms/step - loss: 0.2808 - accuracy: 0.0028 - val_loss: 0.2972 - val_accuracy: 0.0034\n",
      "Epoch 37/50\n",
      "363/363 [==============================] - 1s 4ms/step - loss: 0.2752 - accuracy: 0.0028 - val_loss: 0.2939 - val_accuracy: 0.0034\n",
      "Epoch 38/50\n",
      "363/363 [==============================] - 2s 4ms/step - loss: 0.2760 - accuracy: 0.0028 - val_loss: 0.3009 - val_accuracy: 0.0034\n",
      "Epoch 39/50\n",
      "363/363 [==============================] - 1s 4ms/step - loss: 0.2731 - accuracy: 0.0028 - val_loss: 0.2975 - val_accuracy: 0.0034\n",
      "Epoch 40/50\n",
      "363/363 [==============================] - 1s 4ms/step - loss: 0.2712 - accuracy: 0.0028 - val_loss: 0.3111 - val_accuracy: 0.0034\n",
      "Epoch 41/50\n",
      "363/363 [==============================] - 1s 4ms/step - loss: 0.2714 - accuracy: 0.0028 - val_loss: 0.3023 - val_accuracy: 0.0034\n",
      "Epoch 42/50\n",
      "363/363 [==============================] - 1s 3ms/step - loss: 0.2750 - accuracy: 0.0028 - val_loss: 0.3086 - val_accuracy: 0.0034\n",
      "Epoch 43/50\n",
      "363/363 [==============================] - 1s 4ms/step - loss: 0.2716 - accuracy: 0.0028 - val_loss: 0.2922 - val_accuracy: 0.0034\n",
      "Epoch 44/50\n",
      "363/363 [==============================] - 1s 4ms/step - loss: 0.2699 - accuracy: 0.0028 - val_loss: 0.2981 - val_accuracy: 0.0034\n",
      "Epoch 45/50\n",
      "363/363 [==============================] - 1s 4ms/step - loss: 0.2712 - accuracy: 0.0028 - val_loss: 0.2976 - val_accuracy: 0.0034\n",
      "Epoch 46/50\n",
      "363/363 [==============================] - 1s 4ms/step - loss: 0.2700 - accuracy: 0.0028 - val_loss: 0.3060 - val_accuracy: 0.0034\n",
      "Epoch 47/50\n",
      "363/363 [==============================] - 1s 4ms/step - loss: 0.2664 - accuracy: 0.0028 - val_loss: 0.2936 - val_accuracy: 0.0034\n",
      "Epoch 48/50\n",
      "363/363 [==============================] - 1s 4ms/step - loss: 0.2661 - accuracy: 0.0028 - val_loss: 0.2898 - val_accuracy: 0.0034\n",
      "Epoch 49/50\n",
      "363/363 [==============================] - 1s 4ms/step - loss: 0.2706 - accuracy: 0.0028 - val_loss: 0.2946 - val_accuracy: 0.0034\n",
      "Epoch 50/50\n",
      "363/363 [==============================] - 1s 4ms/step - loss: 0.2663 - accuracy: 0.0028 - val_loss: 0.2887 - val_accuracy: 0.0034\n"
     ]
    }
   ],
   "source": [
    "model.compile(loss=\"mean_squared_error\",optimizer=\"adam\",metrics=[\"accuracy\"])\n",
    "history=model.fit(x_train,y_train,epochs=50,validation_data=(x_valid,y_valid))"
   ]
  },
  {
   "cell_type": "code",
   "execution_count": 25,
   "id": "12c5dfc1",
   "metadata": {},
   "outputs": [
    {
     "data": {
      "image/png": "[encoded data removed]",
      "text/plain": [
       "<Figure size 864x504 with 1 Axes>"
      ]
     },
     "metadata": {
      "needs_background": "light"
     },
     "output_type": "display_data"
    }
   ],
   "source": [
    "pd.DataFrame(history.history).plot(figsize=(12,7))\n",
    "plt.grid()\n",
    "plt.gca().set_ylim(0,1)\n",
    "plt.show()"
   ]
  },
  {
   "cell_type": "code",
   "execution_count": null,
   "id": "2e0d79d2",
   "metadata": {},
   "outputs": [],
   "source": []
  }
 ],
 "metadata": {
  "kernelspec": {
   "display_name": "Python 3 (ipykernel)",
   "language": "python",
   "name": "python3"
  },
  "language_info": {
   "codemirror_mode": {
    "name": "ipython",
    "version": 3
   },
   "file_extension": ".py",
   "mimetype": "text/x-python",
   "name": "python",
   "nbconvert_exporter": "python",
   "pygments_lexer": "ipython3",
   "version": "3.9.0"
  }
 },
 "nbformat": 4,
 "nbformat_minor": 5
}
