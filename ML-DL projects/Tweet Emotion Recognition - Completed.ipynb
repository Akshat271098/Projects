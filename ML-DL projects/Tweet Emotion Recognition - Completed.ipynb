{
 "cells": [
  {
   "cell_type": "markdown",
   "metadata": {
    "colab_type": "text",
    "id": "sp7D0ktn5eiG"
   },
   "source": [
    "## Tweet Emotion Recognition: Natural Language Processing with TensorFlow\n",
    "\n",
    "\n",
    "\n",
    "Dataset: [Tweet Emotion Dataset](https://github.com/dair-ai/emotion_dataset)\n",
    "\n"
   ]
  },
  {
   "cell_type": "markdown",
   "metadata": {},
   "source": [
    "## Task 1: Setup and Imports\n",
    "\n",
    "1. Installing Hugging Face's nlp package\n",
    "2. Importing libraries"
   ]
  },
  {
   "cell_type": "code",
   "execution_count": 1,
   "metadata": {
    "colab": {
     "base_uri": "https://localhost:8080/",
     "height": 34
    },
    "colab_type": "code",
    "id": "yKFjWz6e5eiH",
    "outputId": "79c40ded-2cbb-4fd1-e2ad-88c1629bf988"
   },
   "outputs": [
    {
     "name": "stderr",
     "output_type": "stream",
     "text": [
      "C:\\Users\\Akshat\\anaconda3\\envs\\akshat\\lib\\site-packages\\tqdm\\auto.py:22: TqdmWarning: IProgress not found. Please update jupyter and ipywidgets. See https://ipywidgets.readthedocs.io/en/stable/user_install.html\n",
      "  from .autonotebook import tqdm as notebook_tqdm\n"
     ]
    }
   ],
   "source": [
    "%matplotlib inline\n",
    "\n",
    "import tensorflow as tf\n",
    "import numpy as np\n",
    "import matplotlib.pyplot as plt\n",
    "import nlp\n",
    "import random\n",
    "import string\n",
    "from nltk.corpus import stopwords\n",
    "import statistics as st\n",
    "from imblearn.over_sampling import SMOTE\n",
    "from gensim.models import Word2Vec"
   ]
  },
  {
   "cell_type": "code",
   "execution_count": 6,
   "metadata": {},
   "outputs": [],
   "source": [
    "def show_history(h):\n",
    "    epochs_trained = len(h.history['loss'])\n",
    "    plt.figure(figsize=(16, 6))\n",
    "\n",
    "    plt.subplot(1, 2, 1)\n",
    "    plt.plot(range(0, epochs_trained), h.history.get('accuracy'), label='Training')\n",
    "    plt.plot(range(0, epochs_trained), h.history.get('val_accuracy'), label='Validation')\n",
    "    plt.ylim([0., 1.])\n",
    "    plt.xlabel('Epochs')\n",
    "    plt.ylabel('Accuracy')\n",
    "    plt.legend()\n",
    "\n",
    "    plt.subplot(1, 2, 2)\n",
    "    plt.plot(range(0, epochs_trained), h.history.get('loss'), label='Training')\n",
    "    plt.plot(range(0, epochs_trained), h.history.get('val_loss'), label='Validation')\n",
    "    plt.xlabel('Epochs')\n",
    "    plt.ylabel('Loss')\n",
    "    plt.legend()\n",
    "    plt.show()\n"
   ]
  },
  {
   "cell_type": "code",
   "execution_count": 7,
   "metadata": {},
   "outputs": [],
   "source": [
    "def show_confusion_matrix(y_true, y_pred, classes):\n",
    "    from sklearn.metrics import confusion_matrix\n",
    "    \n",
    "    cm = confusion_matrix(y_true, y_pred, normalize='true')\n",
    "\n",
    "    plt.figure(figsize=(8, 8))\n",
    "    sp = plt.subplot(1, 1, 1)\n",
    "    ctx = sp.matshow(cm)\n",
    "    plt.xticks(list(range(0, 6)), labels=classes)\n",
    "    plt.yticks(list(range(0, 6)), labels=classes)\n",
    "    plt.colorbar(ctx)\n",
    "    plt.show()"
   ]
  },
  {
   "cell_type": "markdown",
   "metadata": {},
   "source": [
    "## Task 2: Importing Data\n",
    "\n",
    "1. Importing the Tweet Emotion dataset\n",
    "2. Creating train, validation and test sets\n",
    "3. Extracting tweets and labels from the examples"
   ]
  },
  {
   "cell_type": "code",
   "execution_count": 8,
   "metadata": {
    "colab": {
     "base_uri": "https://localhost:8080/",
     "height": 34
    },
    "colab_type": "code",
    "id": "0YHOvjAu5eiL",
    "outputId": "8a7beaba-0fae-4d64-9a70-5949a1a2b3d1"
   },
   "outputs": [
    {
     "name": "stderr",
     "output_type": "stream",
     "text": [
      "Using custom data configuration default\n"
     ]
    }
   ],
   "source": [
    "dataset = nlp.load_dataset('emotion')"
   ]
  },
  {
   "cell_type": "code",
   "execution_count": 9,
   "metadata": {},
   "outputs": [
    {
     "data": {
      "text/plain": [
       "{'train': Dataset(features: {'text': Value(dtype='string', id=None), 'label': Value(dtype='string', id=None)}, num_rows: 16000),\n",
       " 'validation': Dataset(features: {'text': Value(dtype='string', id=None), 'label': Value(dtype='string', id=None)}, num_rows: 2000),\n",
       " 'test': Dataset(features: {'text': Value(dtype='string', id=None), 'label': Value(dtype='string', id=None)}, num_rows: 2000)}"
      ]
     },
     "execution_count": 9,
     "metadata": {},
     "output_type": "execute_result"
    }
   ],
   "source": [
    "dataset"
   ]
  },
  {
   "cell_type": "code",
   "execution_count": 10,
   "metadata": {
    "colab": {},
    "colab_type": "code",
    "id": "z7eCnxU25eiN"
   },
   "outputs": [],
   "source": [
    "train = dataset['train']\n",
    "val = dataset['validation']\n",
    "test = dataset['test']"
   ]
  },
  {
   "cell_type": "code",
   "execution_count": 11,
   "metadata": {},
   "outputs": [
    {
     "name": "stdout",
     "output_type": "stream",
     "text": [
      "{'can', 'you', 'hadn', 'him', 'in', 'after', 'on', 'do', 'should', 'at', 'above', 'i', 'to', 'nor', 'own', 'my', 'm', 'only', 'some', 'themselves', 'will', \"wouldn't\", 'down', \"shouldn't\", 'here', \"you've\", 'having', 'wasn', 'ain', 'we', 'had', \"shan't\", 'yours', 'same', 'yourselves', 'very', 'until', 'further', 'for', 'that', 'was', 'than', 'needn', 'wouldn', 'under', 'how', \"hadn't\", \"isn't\", 'his', 'be', 'which', 'and', 'as', 'about', 'just', 'hers', 's', 'below', \"that'll\", 'are', 'out', \"aren't\", 'there', 'while', 'o', 'over', 'don', 'won', 'where', \"mustn't\", 'theirs', 'didn', 'ours', 'no', 'of', \"it's\", 'both', 'mightn', 'being', 'who', 'a', 'from', \"couldn't\", 'or', 'into', 'between', 'herself', 'whom', 'he', \"won't\", 're', \"doesn't\", 'any', 'd', 've', 'these', \"you're\", 'then', 't', 'those', 'ma', 'weren', 'each', 'ourselves', 'so', 'what', 'hasn', 'but', 'their', 'am', 'me', 'were', 'haven', \"mightn't\", 'off', 'when', \"hasn't\", \"she's\", 'the', 'other', 'why', 'itself', 'before', 'have', \"weren't\", \"you'll\", 'y', 'few', 'our', \"needn't\", 'up', 'has', \"haven't\", 'too', 'its', 'her', 'couldn', 'yourself', 'again', 'because', 'them', 'with', 'does', 'an', 'shan', 'she', \"don't\", 'is', 'most', 'himself', 'they', 'this', 'll', 'all', 'more', \"you'd\", 'myself', 'if', 'doesn', 'such', 'been', 'aren', 'now', 'by', 'during', \"didn't\", 'mustn', 'doing', 'shouldn', 'through', 'your', \"wasn't\", \"should've\", 'did', 'it', 'isn', 'once', 'not', 'against'}\n"
     ]
    }
   ],
   "source": [
    "stop = set(stopwords.words('english'))\n",
    "print(stop)"
   ]
  },
  {
   "cell_type": "code",
   "execution_count": 12,
   "metadata": {
    "colab": {},
    "colab_type": "code",
    "id": "oDYXMfZy5eiP"
   },
   "outputs": [],
   "source": [
    "def get_tweets(data):\n",
    "    tweets = [x['text'] for x in data]\n",
    "    labels = [x['label'] for x in data]\n",
    "    return tweets, labels"
   ]
  },
  {
   "cell_type": "code",
   "execution_count": 13,
   "metadata": {
    "colab": {},
    "colab_type": "code",
    "id": "jeq3-vSB5eiR"
   },
   "outputs": [],
   "source": [
    "tweets, labels = get_tweets(train)"
   ]
  },
  {
   "cell_type": "code",
   "execution_count": 14,
   "metadata": {
    "colab": {
     "base_uri": "https://localhost:8080/",
     "height": 50
    },
    "colab_type": "code",
    "id": "bHD3Tk0J5eiU",
    "outputId": "fef2a4a6-885e-4b9b-f0fa-703f25d5fb0d"
   },
   "outputs": [
    {
     "data": {
      "text/plain": [
       "('ive been taking or milligrams or times recommended amount and ive fallen asleep a lot faster but i also feel like so funny',\n",
       " 'sadness')"
      ]
     },
     "execution_count": 14,
     "metadata": {},
     "output_type": "execute_result"
    }
   ],
   "source": [
    "tweets[6], labels[0]"
   ]
  },
  {
   "cell_type": "markdown",
   "metadata": {},
   "source": [
    "## Task 3: Tokenizer\n",
    "\n",
    "1. Tokenizing the tweets"
   ]
  },
  {
   "cell_type": "code",
   "execution_count": 15,
   "metadata": {},
   "outputs": [],
   "source": [
    "from tensorflow.keras.preprocessing.text import Tokenizer"
   ]
  },
  {
   "cell_type": "code",
   "execution_count": 16,
   "metadata": {
    "colab": {
     "base_uri": "https://localhost:8080/",
     "height": 34
    },
    "colab_type": "code",
    "id": "cckUvwBo5eif",
    "outputId": "8d71e463-a7a7-4150-f1b4-c4762abc7b95"
   },
   "outputs": [
    {
     "name": "stdout",
     "output_type": "stream",
     "text": [
      "[[73, 48, 329, 35, 7401, 35, 196, 7402, 888, 4, 73, 2475, 1384, 7, 159, 1885, 19, 2, 117, 3, 14, 15, 455]] \n",
      "\n"
     ]
    }
   ],
   "source": [
    "tokenizer = Tokenizer(num_words=10000, oov_token='<UNK>')\n",
    "\n",
    "tokenizer.fit_on_texts(tweets)\n",
    "\n",
    "print(tokenizer.texts_to_sequences([tweets[6]]),'\\n')\n"
   ]
  },
  {
   "cell_type": "code",
   "execution_count": 17,
   "metadata": {},
   "outputs": [
    {
     "name": "stdout",
     "output_type": "stream",
     "text": [
      "[[40], [31], [2220], [74], [12], [126], [30], [39], [121], [33], [1260], [2], [5], [1084], [175], [11], [93], [118], [69], [945], [59], [1], [142], [1], [136], [1], [150], [777], [4832], [82], [57], [1], [1725], [224], [1], [46], [332], [1089], [16], [9], [20], [95], [1], [1553], [736], [53], [1], [1], [107], [28], [108], [4], [29], [27], [32], [4185], [90], [1827], [1], [44], [50], [1], [81], [187], [2229], [116], [104], [863], [153], [1], [6582], [245], [1], [96], [10], [1], [493], [1], [61], [76], [7], [60], [1], [35], [106], [481], [1591], [1157], [66], [1], [372], [1], [146], [669], [290], [109], [1], [125], [43], [143], [7729], [1], [275], [1748], [15], [54], [4784], [19], [111], [24], [18], [130], [1237], [1], [169], [34], [1], [1], [6], [120], [161], [1154], [176], [21], [1], [1], [2607], [192], [133], [1], [42], [99], [1], [94], [79], [68], [1105], [1148], [129], [37], [64], [25], [262], [77], [1], [98], [1], [22], [134], [1163], [62], [23], [541], [36], [38], [1], [51], [49], [818], [181], [48], [2185], [58], [45], [387], [1], [1], [155], [1572], [138], [110], [1], [1], [127], [13], [1570], [257], [26], [615]]\n"
     ]
    }
   ],
   "source": [
    "stop=tokenizer.texts_to_sequences(stop)\n",
    "print(stop)"
   ]
  },
  {
   "cell_type": "markdown",
   "metadata": {},
   "source": [
    "## Task 4: Removing stop words,Padding and Truncating Sequences\n",
    "1. Removing stop words\n",
    "2. Checking length of the tweets\n",
    "3. Creating padded sequences"
   ]
  },
  {
   "cell_type": "code",
   "execution_count": 18,
   "metadata": {},
   "outputs": [
    {
     "data": {
      "image/png": "[encoded data removed]",
      "text/plain": [
       "<Figure size 432x288 with 1 Axes>"
      ]
     },
     "metadata": {
      "needs_background": "light"
     },
     "output_type": "display_data"
    }
   ],
   "source": [
    "lengths = [len(t.split(' ')) for t in tweets]\n",
    "\n",
    "plt.hist(lengths, bins=len(set(lengths)))\n",
    "plt.show()"
   ]
  },
  {
   "cell_type": "code",
   "execution_count": 19,
   "metadata": {},
   "outputs": [],
   "source": [
    "from tensorflow.keras.preprocessing.sequence import pad_sequences"
   ]
  },
  {
   "cell_type": "code",
   "execution_count": 20,
   "metadata": {},
   "outputs": [],
   "source": [
    "def create_sequences(data):\n",
    "    sequences=tokenizer.texts_to_sequences(data)\n",
    "    return sequences"
   ]
  },
  {
   "cell_type": "code",
   "execution_count": 21,
   "metadata": {},
   "outputs": [],
   "source": [
    "def remove_stop_sequences(sequence):\n",
    "    cleaned=[]\n",
    "    for i in sequence:\n",
    "        row=[]\n",
    "        for j in i:\n",
    "            l=[]\n",
    "            l.append(j)\n",
    "            if l not in stop:\n",
    "                row.append(j)\n",
    "        cleaned.append(row)\n",
    "    return cleaned\n",
    "        "
   ]
  },
  {
   "cell_type": "code",
   "execution_count": 22,
   "metadata": {},
   "outputs": [],
   "source": [
    "def get_padded_sequences(sequences,pad_length):\n",
    "    padded_sequences = pad_sequences(sequences, truncating='post', maxlen=pad_length, padding='post')\n",
    "    return padded_sequences"
   ]
  },
  {
   "cell_type": "code",
   "execution_count": 23,
   "metadata": {
    "colab": {},
    "colab_type": "code",
    "id": "eglH77ky5ei0"
   },
   "outputs": [
    {
     "name": "stdout",
     "output_type": "stream",
     "text": [
      "[73, 48, 329, 35, 7401, 35, 196, 7402, 888, 4, 73, 2475, 1384, 7, 159, 1885, 19, 2, 117, 3, 14, 15, 455]\n",
      "[73, 329, 7401, 196, 7402, 888, 73, 2475, 1384, 159, 1885, 117, 3, 14, 455]\n",
      "Average string length: 9.0273125\n"
     ]
    },
    {
     "data": {
      "image/png": "[encoded data removed]",
      "text/plain": [
       "<Figure size 432x288 with 1 Axes>"
      ]
     },
     "metadata": {
      "needs_background": "light"
     },
     "output_type": "display_data"
    }
   ],
   "source": [
    "sequences=create_sequences(tweets)\n",
    "print(sequences[6])\n",
    "sequences=remove_stop_sequences(sequences)\n",
    "print(sequences[6])\n",
    "lengths=[]\n",
    "for i in sequences:\n",
    "    lengths.append(len(i))\n",
    "print('Average string length:',st.mean(lengths))\n",
    "plt.hist(lengths, bins=len(set(lengths)))\n",
    "plt.show()"
   ]
  },
  {
   "cell_type": "code",
   "execution_count": 21,
   "metadata": {
    "colab": {
     "base_uri": "https://localhost:8080/",
     "height": 101
    },
    "colab_type": "code",
    "id": "iGR473HA5ei7",
    "outputId": "081725b6-e345-4536-ceb6-9f2c6344054f"
   },
   "outputs": [
    {
     "data": {
      "text/plain": [
       "array([  73,  329, 7401,  196, 7402,  888,   73, 2475, 1384,  159, 1885,\n",
       "        117,    3,   14,  455,    0,    0,    0,    0,    0])"
      ]
     },
     "execution_count": 21,
     "metadata": {},
     "output_type": "execute_result"
    }
   ],
   "source": [
    "pad_length=20\n",
    "padded_train_sequences = get_padded_sequences(sequences,pad_length)\n",
    "padded_train_sequences[6]"
   ]
  },
  {
   "cell_type": "markdown",
   "metadata": {},
   "source": [
    "## Task 5: Preparing the Labels\n",
    "\n",
    "1. Handling class imbalancement\n",
    "2. Creating classes to index and index to classes dictionaries\n",
    "3. Converting text labels to numeric labels"
   ]
  },
  {
   "cell_type": "code",
   "execution_count": 22,
   "metadata": {
    "colab": {
     "base_uri": "https://localhost:8080/",
     "height": 34
    },
    "colab_type": "code",
    "id": "SufT2bpD5ejE",
    "outputId": "3b0ff532-55b7-45b8-8498-040b86029789"
   },
   "outputs": [
    {
     "name": "stdout",
     "output_type": "stream",
     "text": [
      "{'love', 'surprise', 'anger', 'fear', 'joy', 'sadness'}\n"
     ]
    }
   ],
   "source": [
    "classes = set(labels)\n",
    "print(classes)"
   ]
  },
  {
   "cell_type": "code",
   "execution_count": 23,
   "metadata": {
    "colab": {
     "base_uri": "https://localhost:8080/",
     "height": 265
    },
    "colab_type": "code",
    "id": "rpwzL88I7YSm",
    "outputId": "df513fa4-49a3-435c-f57d-3ad6715a1583"
   },
   "outputs": [
    {
     "data": {
      "image/png": "[encoded data removed]",
      "text/plain": [
       "<Figure size 432x288 with 1 Axes>"
      ]
     },
     "metadata": {
      "needs_background": "light"
     },
     "output_type": "display_data"
    }
   ],
   "source": [
    "plt.hist(labels, bins=11)\n",
    "plt.show()"
   ]
  },
  {
   "cell_type": "code",
   "execution_count": 24,
   "metadata": {},
   "outputs": [],
   "source": [
    "oversample=SMOTE()\n",
    "padded_train_sequences,labels=oversample.fit_resample(padded_train_sequences,labels)"
   ]
  },
  {
   "cell_type": "code",
   "execution_count": 25,
   "metadata": {},
   "outputs": [
    {
     "data": {
      "image/png": "[encoded data removed]",
      "text/plain": [
       "<Figure size 432x288 with 1 Axes>"
      ]
     },
     "metadata": {
      "needs_background": "light"
     },
     "output_type": "display_data"
    }
   ],
   "source": [
    "plt.hist(labels, bins=11)\n",
    "plt.show()"
   ]
  },
  {
   "cell_type": "code",
   "execution_count": 26,
   "metadata": {
    "colab": {},
    "colab_type": "code",
    "id": "dNLF6rXL5ejN"
   },
   "outputs": [],
   "source": [
    "classes_to_index = dict((c, i) for i, c in enumerate(classes))\n",
    "index_to_classes = dict((v, k) for k, v in classes_to_index.items())"
   ]
  },
  {
   "cell_type": "code",
   "execution_count": 27,
   "metadata": {
    "colab": {
     "base_uri": "https://localhost:8080/",
     "height": 34
    },
    "colab_type": "code",
    "id": "_08InVyM5ejc",
    "outputId": "fd4b044c-0e32-4c45-86b3-9b9cac4458d1"
   },
   "outputs": [
    {
     "data": {
      "text/plain": [
       "{'love': 0, 'surprise': 1, 'anger': 2, 'fear': 3, 'joy': 4, 'sadness': 5}"
      ]
     },
     "execution_count": 27,
     "metadata": {},
     "output_type": "execute_result"
    }
   ],
   "source": [
    "classes_to_index"
   ]
  },
  {
   "cell_type": "code",
   "execution_count": 28,
   "metadata": {},
   "outputs": [
    {
     "data": {
      "text/plain": [
       "{0: 'love', 1: 'surprise', 2: 'anger', 3: 'fear', 4: 'joy', 5: 'sadness'}"
      ]
     },
     "execution_count": 28,
     "metadata": {},
     "output_type": "execute_result"
    }
   ],
   "source": [
    "index_to_classes"
   ]
  },
  {
   "cell_type": "code",
   "execution_count": 29,
   "metadata": {
    "colab": {},
    "colab_type": "code",
    "id": "Jq0WJYsP5ejR"
   },
   "outputs": [],
   "source": [
    "names_to_ids = lambda labels: np.array([classes_to_index.get(x) for x in labels])"
   ]
  },
  {
   "cell_type": "code",
   "execution_count": 30,
   "metadata": {
    "colab": {
     "base_uri": "https://localhost:8080/",
     "height": 34
    },
    "colab_type": "code",
    "id": "v15KnrNC5ejW",
    "outputId": "2e5205b7-4cb3-4383-aeb9-0ac81a95092f"
   },
   "outputs": [
    {
     "name": "stdout",
     "output_type": "stream",
     "text": [
      "5\n"
     ]
    }
   ],
   "source": [
    "train_labels = names_to_ids(labels)\n",
    "print(train_labels[0])"
   ]
  },
  {
   "cell_type": "markdown",
   "metadata": {},
   "source": [
    "## Task 6: Creating the Model\n",
    "\n",
    "1. Creating the model\n",
    "2. Compiling the model"
   ]
  },
  {
   "cell_type": "code",
   "execution_count": 44,
   "metadata": {
    "colab": {
     "base_uri": "https://localhost:8080/",
     "height": 286
    },
    "colab_type": "code",
    "id": "OpewXxPQ5eji",
    "outputId": "b0c61e65-fb96-4f58-aa5b-94dfaadd0b3c"
   },
   "outputs": [
    {
     "name": "stdout",
     "output_type": "stream",
     "text": [
      "Model: \"sequential_4\"\n",
      "_________________________________________________________________\n",
      " Layer (type)                Output Shape              Param #   \n",
      "=================================================================\n",
      " embedding_4 (Embedding)     (None, 20, 12)            120000    \n",
      "                                                                 \n",
      " bidirectional_8 (Bidirectio  (None, 20, 20)           1840      \n",
      " nal)                                                            \n",
      "                                                                 \n",
      " bidirectional_9 (Bidirectio  (None, 16)               1856      \n",
      " nal)                                                            \n",
      "                                                                 \n",
      " dense_4 (Dense)             (None, 6)                 102       \n",
      "                                                                 \n",
      "=================================================================\n",
      "Total params: 123,798\n",
      "Trainable params: 123,798\n",
      "Non-trainable params: 0\n",
      "_________________________________________________________________\n"
     ]
    }
   ],
   "source": [
    "model = tf.keras.models.Sequential([\n",
    "    tf.keras.layers.Embedding(10000, 12, input_length=pad_length),\n",
    "    tf.keras.layers.Bidirectional(tf.keras.layers.LSTM(10, return_sequences=True)),\n",
    "    tf.keras.layers.Bidirectional(tf.keras.layers.LSTM(8)),\n",
    "    tf.keras.layers.Dense(6, activation='softmax')\n",
    "])\n",
    "\n",
    "model.compile(\n",
    "    loss='sparse_categorical_crossentropy',\n",
    "    optimizer='adam',\n",
    "    metrics=['accuracy']\n",
    ")\n",
    "\n",
    "model.summary()"
   ]
  },
  {
   "cell_type": "markdown",
   "metadata": {},
   "source": [
    "## Task 7: Training the Model\n",
    "\n",
    "1. Preparing a validation set\n",
    "2. Training the model"
   ]
  },
  {
   "cell_type": "code",
   "execution_count": 45,
   "metadata": {
    "colab": {},
    "colab_type": "code",
    "id": "Ff7F3hCK5ejm"
   },
   "outputs": [],
   "source": [
    "val_tweets, val_labels = get_tweets(val)\n",
    "sequences=create_sequences(val_tweets)\n",
    "sequences=remove_stop_sequences(sequences)\n",
    "padded_val_sequences = get_padded_sequences(sequences,pad_length)\n",
    "val_labels = names_to_ids(val_labels)"
   ]
  },
  {
   "cell_type": "code",
   "execution_count": 46,
   "metadata": {
    "colab": {
     "base_uri": "https://localhost:8080/",
     "height": 34
    },
    "colab_type": "code",
    "id": "hlMKaZ3H5ejr",
    "outputId": "c37c302d-489c-49a3-cec3-8b27e2aaaffc"
   },
   "outputs": [
    {
     "data": {
      "text/plain": [
       "('im feeling quite sad and sorry for myself but ill snap out of it soon', 5)"
      ]
     },
     "execution_count": 46,
     "metadata": {},
     "output_type": "execute_result"
    }
   ],
   "source": [
    "val_tweets[0], val_labels[0]"
   ]
  },
  {
   "cell_type": "code",
   "execution_count": 47,
   "metadata": {},
   "outputs": [
    {
     "data": {
      "text/plain": [
       "([17, 8, 157, 260, 343, 212, 533],\n",
       " array([ 17,   8, 157, 260, 343, 212, 533,   0,   0,   0,   0,   0,   0,\n",
       "          0,   0,   0,   0,   0,   0,   0]))"
      ]
     },
     "execution_count": 47,
     "metadata": {},
     "output_type": "execute_result"
    }
   ],
   "source": [
    "sequences[0],padded_val_sequences[0]"
   ]
  },
  {
   "cell_type": "code",
   "execution_count": 48,
   "metadata": {
    "colab": {
     "base_uri": "https://localhost:8080/",
     "height": 454
    },
    "colab_type": "code",
    "id": "bzBqnWQ-5ejw",
    "outputId": "499ededc-0e2e-4f06-d59a-15350da7da31"
   },
   "outputs": [
    {
     "name": "stdout",
     "output_type": "stream",
     "text": [
      "Epoch 1/30\n",
      "1006/1006 [==============================] - 20s 16ms/step - loss: 1.4322 - accuracy: 0.3944 - val_loss: 0.7571 - val_accuracy: 0.7680\n",
      "Epoch 2/30\n",
      "1006/1006 [==============================] - 17s 17ms/step - loss: 1.1051 - accuracy: 0.5588 - val_loss: 0.6105 - val_accuracy: 0.8290\n",
      "Epoch 3/30\n",
      "1006/1006 [==============================] - 15s 15ms/step - loss: 1.0107 - accuracy: 0.5960 - val_loss: 0.5625 - val_accuracy: 0.8425\n",
      "Epoch 4/30\n",
      "1006/1006 [==============================] - 15s 15ms/step - loss: 0.9404 - accuracy: 0.6246 - val_loss: 0.4903 - val_accuracy: 0.8615\n",
      "Epoch 5/30\n",
      "1006/1006 [==============================] - 15s 15ms/step - loss: 0.8893 - accuracy: 0.6452 - val_loss: 0.5476 - val_accuracy: 0.8485\n",
      "Epoch 6/30\n",
      "1006/1006 [==============================] - 15s 15ms/step - loss: 0.8461 - accuracy: 0.6650 - val_loss: 0.5227 - val_accuracy: 0.8510\n",
      "Epoch 7/30\n",
      "1006/1006 [==============================] - 15s 15ms/step - loss: 0.8100 - accuracy: 0.6811 - val_loss: 0.5839 - val_accuracy: 0.8365\n",
      "Epoch 8/30\n",
      "1006/1006 [==============================] - 15s 15ms/step - loss: 0.7700 - accuracy: 0.6988 - val_loss: 0.5518 - val_accuracy: 0.8430\n",
      "Epoch 9/30\n",
      "1006/1006 [==============================] - 15s 15ms/step - loss: 0.7350 - accuracy: 0.7149 - val_loss: 0.6169 - val_accuracy: 0.8270\n",
      "Epoch 10/30\n",
      "1006/1006 [==============================] - 15s 15ms/step - loss: 0.7005 - accuracy: 0.7322 - val_loss: 0.5997 - val_accuracy: 0.8350\n",
      "Epoch 11/30\n",
      "1006/1006 [==============================] - 15s 15ms/step - loss: 0.6645 - accuracy: 0.7476 - val_loss: 0.6607 - val_accuracy: 0.8180\n",
      "Epoch 12/30\n",
      "1006/1006 [==============================] - 15s 15ms/step - loss: 0.6318 - accuracy: 0.7637 - val_loss: 0.6829 - val_accuracy: 0.8235\n",
      "Epoch 13/30\n",
      "1006/1006 [==============================] - 15s 15ms/step - loss: 0.6065 - accuracy: 0.7753 - val_loss: 0.7256 - val_accuracy: 0.8105\n",
      "Epoch 14/30\n",
      "1006/1006 [==============================] - 15s 15ms/step - loss: 0.5746 - accuracy: 0.7906 - val_loss: 0.7240 - val_accuracy: 0.8160\n",
      "Epoch 15/30\n",
      "1006/1006 [==============================] - 15s 15ms/step - loss: 0.5467 - accuracy: 0.8013 - val_loss: 0.7769 - val_accuracy: 0.8130\n",
      "Epoch 16/30\n",
      "1006/1006 [==============================] - 15s 15ms/step - loss: 0.5253 - accuracy: 0.8114 - val_loss: 0.7634 - val_accuracy: 0.8115\n",
      "Epoch 17/30\n",
      "1006/1006 [==============================] - 15s 15ms/step - loss: 0.5002 - accuracy: 0.8211 - val_loss: 0.7728 - val_accuracy: 0.8135\n",
      "Epoch 18/30\n",
      "1006/1006 [==============================] - 15s 15ms/step - loss: 0.4750 - accuracy: 0.8317 - val_loss: 0.8242 - val_accuracy: 0.8090\n",
      "Epoch 19/30\n",
      "1006/1006 [==============================] - 15s 15ms/step - loss: 0.4539 - accuracy: 0.8402 - val_loss: 0.8545 - val_accuracy: 0.7970\n"
     ]
    }
   ],
   "source": [
    "h = model.fit(\n",
    "    padded_train_sequences, train_labels,\n",
    "    validation_data=(padded_val_sequences, val_labels),\n",
    "    epochs=30,\n",
    "    callbacks=[\n",
    "        tf.keras.callbacks.EarlyStopping(monitor='val_loss',mode='min', patience=10)\n",
    "    ]\n",
    ")"
   ]
  },
  {
   "cell_type": "markdown",
   "metadata": {},
   "source": [
    "## Task 8: Evaluating the Model\n",
    "\n",
    "1. Visualizing training history\n",
    "2. Prepraring a test set\n",
    "3. A look at individual predictions on the test set\n",
    "4. A look at all predictions on the test set"
   ]
  },
  {
   "cell_type": "code",
   "execution_count": 49,
   "metadata": {},
   "outputs": [
    {
     "data": {
      "image/png": "[encoded data removed]",
      "text/plain": [
       "<Figure size 1152x432 with 2 Axes>"
      ]
     },
     "metadata": {
      "needs_background": "light"
     },
     "output_type": "display_data"
    }
   ],
   "source": [
    "show_history(h)"
   ]
  },
  {
   "cell_type": "code",
   "execution_count": 50,
   "metadata": {},
   "outputs": [],
   "source": [
    "test_tweets, test_labels = get_tweets(test)\n",
    "sequences=create_sequences(test_tweets)\n",
    "sequences=remove_stop_sequences(sequences)\n",
    "padded_test_sequences = get_padded_sequences(sequences,pad_length)\n",
    "test_labels = names_to_ids(test_labels)"
   ]
  },
  {
   "cell_type": "code",
   "execution_count": 51,
   "metadata": {},
   "outputs": [
    {
     "name": "stdout",
     "output_type": "stream",
     "text": [
      "63/63 [==============================] - 1s 8ms/step - loss: 0.8900 - accuracy: 0.7975\n"
     ]
    }
   ],
   "source": [
    "_ = model.evaluate(padded_test_sequences, test_labels)"
   ]
  },
  {
   "cell_type": "code",
   "execution_count": 53,
   "metadata": {
    "colab": {
     "base_uri": "https://localhost:8080/",
     "height": 67
    },
    "colab_type": "code",
    "id": "rh638vHG5ej6",
    "outputId": "feb44736-ee6e-477e-d24a-a2fad5ebaf62"
   },
   "outputs": [
    {
     "name": "stdout",
     "output_type": "stream",
     "text": [
      "Sentence: i am feeling much more relaxed\n",
      "Emotion: joy\n",
      "Predicted Emotion: joy\n"
     ]
    }
   ],
   "source": [
    "i = random.randint(0, len(test_labels) - 1)\n",
    "\n",
    "print('Sentence:', test_tweets[i])\n",
    "print('Emotion:', index_to_classes[test_labels[i]])\n",
    "\n",
    "p = model.predict(np.expand_dims(padded_test_sequences[i], axis=0))[0]\n",
    "\n",
    "print('Predicted Emotion:', index_to_classes.get(p.argmax(axis=-1)))"
   ]
  },
  {
   "cell_type": "code",
   "execution_count": 54,
   "metadata": {},
   "outputs": [
    {
     "data": {
      "text/plain": [
       "((2000, 6), (2000,))"
      ]
     },
     "execution_count": 54,
     "metadata": {},
     "output_type": "execute_result"
    }
   ],
   "source": [
    "preds = model.predict(padded_test_sequences)\n",
    "preds.shape, test_labels.shape"
   ]
  },
  {
   "cell_type": "code",
   "execution_count": 55,
   "metadata": {},
   "outputs": [
    {
     "data": {
      "image/png": "[encoded data removed]",
      "text/plain": [
       "<Figure size 576x576 with 2 Axes>"
      ]
     },
     "metadata": {
      "needs_background": "light"
     },
     "output_type": "display_data"
    }
   ],
   "source": [
    "show_confusion_matrix(test_labels, preds.argmax(axis=-1), list(classes))"
   ]
  },
  {
   "cell_type": "code",
   "execution_count": null,
   "metadata": {},
   "outputs": [],
   "source": []
  }
 ],
 "metadata": {
  "accelerator": "GPU",
  "colab": {
   "collapsed_sections": [],
   "name": "Tweet Sentiment Classification: Complete.ipynb",
   "provenance": []
  },
  "kernelspec": {
   "display_name": "Python 3 (ipykernel)",
   "language": "python",
   "name": "python3"
  },
  "language_info": {
   "codemirror_mode": {
    "name": "ipython",
    "version": 3
   },
   "file_extension": ".py",
   "mimetype": "text/x-python",
   "name": "python",
   "nbconvert_exporter": "python",
   "pygments_lexer": "ipython3",
   "version": "3.9.0"
  }
 },
 "nbformat": 4,
 "nbformat_minor": 1
}
