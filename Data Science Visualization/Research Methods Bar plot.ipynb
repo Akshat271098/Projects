{
 "cells": [
  {
   "cell_type": "code",
   "execution_count": 2,
   "id": "e9e66357",
   "metadata": {},
   "outputs": [],
   "source": [
    "from matplotlib import pyplot as plt\n",
    "import pandas as pd\n",
    "import numpy as np\n",
    "%matplotlib inline"
   ]
  },
  {
   "cell_type": "code",
   "execution_count": 3,
   "id": "dad03b38",
   "metadata": {},
   "outputs": [],
   "source": [
    "data=pd.read_csv('IMD-rainfall-districtwise-jan22_0.csv')"
   ]
  },
  {
   "cell_type": "code",
   "execution_count": 4,
   "id": "85550ad7",
   "metadata": {
    "scrolled": true
   },
   "outputs": [
    {
     "data": {
      "text/html": [
       "<div>\n",
       "<style scoped>\n",
       "    .dataframe tbody tr th:only-of-type {\n",
       "        vertical-align: middle;\n",
       "    }\n",
       "\n",
       "    .dataframe tbody tr th {\n",
       "        vertical-align: top;\n",
       "    }\n",
       "\n",
       "    .dataframe thead th {\n",
       "        text-align: right;\n",
       "    }\n",
       "</style>\n",
       "<table border=\"1\" class=\"dataframe\">\n",
       "  <thead>\n",
       "    <tr style=\"text-align: right;\">\n",
       "      <th></th>\n",
       "      <th>State</th>\n",
       "      <th>District</th>\n",
       "      <th>Date</th>\n",
       "      <th>Year</th>\n",
       "      <th>Month</th>\n",
       "      <th>Avg_rainfall</th>\n",
       "      <th>Agency_name</th>\n",
       "    </tr>\n",
       "  </thead>\n",
       "  <tbody>\n",
       "    <tr>\n",
       "      <th>0</th>\n",
       "      <td>Andaman &amp; Nicobar</td>\n",
       "      <td>Nicobar</td>\n",
       "      <td>2022-01-01</td>\n",
       "      <td>2022</td>\n",
       "      <td>1</td>\n",
       "      <td>0.0</td>\n",
       "      <td>IMD GRID MODEL</td>\n",
       "    </tr>\n",
       "    <tr>\n",
       "      <th>1</th>\n",
       "      <td>Andaman &amp; Nicobar</td>\n",
       "      <td>Nicobar</td>\n",
       "      <td>2022-01-02</td>\n",
       "      <td>2022</td>\n",
       "      <td>1</td>\n",
       "      <td>0.0</td>\n",
       "      <td>IMD GRID MODEL</td>\n",
       "    </tr>\n",
       "    <tr>\n",
       "      <th>2</th>\n",
       "      <td>Andaman &amp; Nicobar</td>\n",
       "      <td>Nicobar</td>\n",
       "      <td>2022-01-03</td>\n",
       "      <td>2022</td>\n",
       "      <td>1</td>\n",
       "      <td>0.0</td>\n",
       "      <td>IMD GRID MODEL</td>\n",
       "    </tr>\n",
       "    <tr>\n",
       "      <th>3</th>\n",
       "      <td>Andaman &amp; Nicobar</td>\n",
       "      <td>Nicobar</td>\n",
       "      <td>2022-01-04</td>\n",
       "      <td>2022</td>\n",
       "      <td>1</td>\n",
       "      <td>0.0</td>\n",
       "      <td>IMD GRID MODEL</td>\n",
       "    </tr>\n",
       "    <tr>\n",
       "      <th>4</th>\n",
       "      <td>Andaman &amp; Nicobar</td>\n",
       "      <td>Nicobar</td>\n",
       "      <td>2022-01-05</td>\n",
       "      <td>2022</td>\n",
       "      <td>1</td>\n",
       "      <td>0.0</td>\n",
       "      <td>IMD GRID MODEL</td>\n",
       "    </tr>\n",
       "  </tbody>\n",
       "</table>\n",
       "</div>"
      ],
      "text/plain": [
       "               State District        Date  Year  Month  Avg_rainfall  \\\n",
       "0  Andaman & Nicobar  Nicobar  2022-01-01  2022      1           0.0   \n",
       "1  Andaman & Nicobar  Nicobar  2022-01-02  2022      1           0.0   \n",
       "2  Andaman & Nicobar  Nicobar  2022-01-03  2022      1           0.0   \n",
       "3  Andaman & Nicobar  Nicobar  2022-01-04  2022      1           0.0   \n",
       "4  Andaman & Nicobar  Nicobar  2022-01-05  2022      1           0.0   \n",
       "\n",
       "      Agency_name  \n",
       "0  IMD GRID MODEL  \n",
       "1  IMD GRID MODEL  \n",
       "2  IMD GRID MODEL  \n",
       "3  IMD GRID MODEL  \n",
       "4  IMD GRID MODEL  "
      ]
     },
     "execution_count": 4,
     "metadata": {},
     "output_type": "execute_result"
    }
   ],
   "source": [
    "data.head()"
   ]
  },
  {
   "cell_type": "code",
   "execution_count": 5,
   "id": "ff7a768e",
   "metadata": {
    "scrolled": true
   },
   "outputs": [
    {
     "name": "stdout",
     "output_type": "stream",
     "text": [
      "<class 'pandas.core.frame.DataFrame'>\n",
      "Int64Index: 390 entries, 20910 to 21299\n",
      "Data columns (total 7 columns):\n",
      " #   Column        Non-Null Count  Dtype  \n",
      "---  ------        --------------  -----  \n",
      " 0   State         390 non-null    object \n",
      " 1   District      390 non-null    object \n",
      " 2   Date          390 non-null    object \n",
      " 3   Year          390 non-null    int64  \n",
      " 4   Month         390 non-null    int64  \n",
      " 5   Avg_rainfall  390 non-null    float64\n",
      " 6   Agency_name   390 non-null    object \n",
      "dtypes: float64(1), int64(2), object(4)\n",
      "memory usage: 24.4+ KB\n"
     ]
    }
   ],
   "source": [
    "data_uttarakhand=data[data['State']=='Uttarakhand']\n",
    "data_uttarakhand.info()"
   ]
  },
  {
   "cell_type": "code",
   "execution_count": 6,
   "id": "caa94398",
   "metadata": {},
   "outputs": [
    {
     "data": {
      "text/html": [
       "<div>\n",
       "<style scoped>\n",
       "    .dataframe tbody tr th:only-of-type {\n",
       "        vertical-align: middle;\n",
       "    }\n",
       "\n",
       "    .dataframe tbody tr th {\n",
       "        vertical-align: top;\n",
       "    }\n",
       "\n",
       "    .dataframe thead th {\n",
       "        text-align: right;\n",
       "    }\n",
       "</style>\n",
       "<table border=\"1\" class=\"dataframe\">\n",
       "  <thead>\n",
       "    <tr style=\"text-align: right;\">\n",
       "      <th></th>\n",
       "      <th>District</th>\n",
       "      <th>Avg_rainfall</th>\n",
       "    </tr>\n",
       "  </thead>\n",
       "  <tbody>\n",
       "    <tr>\n",
       "      <th>20910</th>\n",
       "      <td>Almora</td>\n",
       "      <td>0.000000</td>\n",
       "    </tr>\n",
       "    <tr>\n",
       "      <th>20911</th>\n",
       "      <td>Almora</td>\n",
       "      <td>0.000000</td>\n",
       "    </tr>\n",
       "    <tr>\n",
       "      <th>20912</th>\n",
       "      <td>Almora</td>\n",
       "      <td>0.000000</td>\n",
       "    </tr>\n",
       "    <tr>\n",
       "      <th>20913</th>\n",
       "      <td>Almora</td>\n",
       "      <td>0.000000</td>\n",
       "    </tr>\n",
       "    <tr>\n",
       "      <th>20914</th>\n",
       "      <td>Almora</td>\n",
       "      <td>13.093724</td>\n",
       "    </tr>\n",
       "  </tbody>\n",
       "</table>\n",
       "</div>"
      ],
      "text/plain": [
       "      District  Avg_rainfall\n",
       "20910   Almora      0.000000\n",
       "20911   Almora      0.000000\n",
       "20912   Almora      0.000000\n",
       "20913   Almora      0.000000\n",
       "20914   Almora     13.093724"
      ]
     },
     "execution_count": 6,
     "metadata": {},
     "output_type": "execute_result"
    }
   ],
   "source": [
    "data_uttarakhand=data_uttarakhand.drop(['State','Date','Year','Agency_name','Month'],axis=1)\n",
    "data_uttarakhand.head()"
   ]
  },
  {
   "cell_type": "code",
   "execution_count": 7,
   "id": "6e027003",
   "metadata": {},
   "outputs": [
    {
     "name": "stdout",
     "output_type": "stream",
     "text": [
      "<class 'pandas.core.frame.DataFrame'>\n",
      "Int64Index: 390 entries, 20910 to 21299\n",
      "Data columns (total 2 columns):\n",
      " #   Column        Non-Null Count  Dtype  \n",
      "---  ------        --------------  -----  \n",
      " 0   District      390 non-null    object \n",
      " 1   Avg_rainfall  390 non-null    float64\n",
      "dtypes: float64(1), object(1)\n",
      "memory usage: 9.1+ KB\n"
     ]
    }
   ],
   "source": [
    "data_uttarakhand['District']=data_uttarakhand['District'].astype(str)\n",
    "data_uttarakhand.info()"
   ]
  },
  {
   "cell_type": "code",
   "execution_count": 13,
   "id": "4954154e",
   "metadata": {},
   "outputs": [
    {
     "name": "stderr",
     "output_type": "stream",
     "text": [
      "C:\\Users\\Akshat\\AppData\\Local\\Temp\\ipykernel_25332\\1388624182.py:8: UserWarning: FixedFormatter should only be used together with FixedLocator\n",
      "  ax.set_xticklabels(dict.keys(),rotation=45,ha='right')\n"
     ]
    },
    {
     "data": {
      "image/png": "[encoded data removed]",
      "text/plain": [
       "<Figure size 864x504 with 1 Axes>"
      ]
     },
     "metadata": {
      "needs_background": "light"
     },
     "output_type": "display_data"
    }
   ],
   "source": [
    "districts= pd.unique(data_uttarakhand['District'])\n",
    "dict={}\n",
    "for dist in districts:\n",
    "    data_dist=data_uttarakhand[data_uttarakhand['District']==dist]\n",
    "    dict[dist]=sum(data_dist['Avg_rainfall'].tolist())\n",
    "fig, ax = plt.subplots(figsize=(12,7))\n",
    "ax.bar(dict.keys(),dict.values())\n",
    "ax.set_xticklabels(dict.keys(),rotation=45,ha='right')\n",
    "ax.grid()\n",
    "ax.set_title('Bar plot of monthly total (of daily avg.) rainfall across districts of Uttarakhand for Jan-2022')\n",
    "ax.set_ylabel('Rainfall in mm')\n",
    "ax.set_xlabel('District in Uttarakhand')\n",
    "plt.tight_layout()\n",
    "plt.show()"
   ]
  },
  {
   "cell_type": "code",
   "execution_count": null,
   "id": "d3b5e157",
   "metadata": {},
   "outputs": [],
   "source": []
  }
 ],
 "metadata": {
  "kernelspec": {
   "display_name": "Python 3 (ipykernel)",
   "language": "python",
   "name": "python3"
  },
  "language_info": {
   "codemirror_mode": {
    "name": "ipython",
    "version": 3
   },
   "file_extension": ".py",
   "mimetype": "text/x-python",
   "name": "python",
   "nbconvert_exporter": "python",
   "pygments_lexer": "ipython3",
   "version": "3.9.12"
  }
 },
 "nbformat": 4,
 "nbformat_minor": 5
}
