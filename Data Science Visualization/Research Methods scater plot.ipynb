{
 "cells": [
  {
   "cell_type": "code",
   "execution_count": 1,
   "id": "e9e66357",
   "metadata": {},
   "outputs": [],
   "source": [
    "from matplotlib import pyplot as plt\n",
    "import pandas as pd"
   ]
  },
  {
   "cell_type": "code",
   "execution_count": 45,
   "id": "dad03b38",
   "metadata": {},
   "outputs": [],
   "source": [
    "data=pd.read_csv('IMD-rainfall-districtwise-jan22_0.csv')"
   ]
  },
  {
   "cell_type": "code",
   "execution_count": 46,
   "id": "85550ad7",
   "metadata": {
    "scrolled": true
   },
   "outputs": [
    {
     "data": {
      "text/html": [
       "<div>\n",
       "<style scoped>\n",
       "    .dataframe tbody tr th:only-of-type {\n",
       "        vertical-align: middle;\n",
       "    }\n",
       "\n",
       "    .dataframe tbody tr th {\n",
       "        vertical-align: top;\n",
       "    }\n",
       "\n",
       "    .dataframe thead th {\n",
       "        text-align: right;\n",
       "    }\n",
       "</style>\n",
       "<table border=\"1\" class=\"dataframe\">\n",
       "  <thead>\n",
       "    <tr style=\"text-align: right;\">\n",
       "      <th></th>\n",
       "      <th>State</th>\n",
       "      <th>District</th>\n",
       "      <th>Date</th>\n",
       "      <th>Year</th>\n",
       "      <th>Month</th>\n",
       "      <th>Avg_rainfall</th>\n",
       "      <th>Agency_name</th>\n",
       "    </tr>\n",
       "  </thead>\n",
       "  <tbody>\n",
       "    <tr>\n",
       "      <th>0</th>\n",
       "      <td>Andaman &amp; Nicobar</td>\n",
       "      <td>Nicobar</td>\n",
       "      <td>2022-01-01</td>\n",
       "      <td>2022</td>\n",
       "      <td>1</td>\n",
       "      <td>0.0</td>\n",
       "      <td>IMD GRID MODEL</td>\n",
       "    </tr>\n",
       "    <tr>\n",
       "      <th>1</th>\n",
       "      <td>Andaman &amp; Nicobar</td>\n",
       "      <td>Nicobar</td>\n",
       "      <td>2022-01-02</td>\n",
       "      <td>2022</td>\n",
       "      <td>1</td>\n",
       "      <td>0.0</td>\n",
       "      <td>IMD GRID MODEL</td>\n",
       "    </tr>\n",
       "    <tr>\n",
       "      <th>2</th>\n",
       "      <td>Andaman &amp; Nicobar</td>\n",
       "      <td>Nicobar</td>\n",
       "      <td>2022-01-03</td>\n",
       "      <td>2022</td>\n",
       "      <td>1</td>\n",
       "      <td>0.0</td>\n",
       "      <td>IMD GRID MODEL</td>\n",
       "    </tr>\n",
       "    <tr>\n",
       "      <th>3</th>\n",
       "      <td>Andaman &amp; Nicobar</td>\n",
       "      <td>Nicobar</td>\n",
       "      <td>2022-01-04</td>\n",
       "      <td>2022</td>\n",
       "      <td>1</td>\n",
       "      <td>0.0</td>\n",
       "      <td>IMD GRID MODEL</td>\n",
       "    </tr>\n",
       "    <tr>\n",
       "      <th>4</th>\n",
       "      <td>Andaman &amp; Nicobar</td>\n",
       "      <td>Nicobar</td>\n",
       "      <td>2022-01-05</td>\n",
       "      <td>2022</td>\n",
       "      <td>1</td>\n",
       "      <td>0.0</td>\n",
       "      <td>IMD GRID MODEL</td>\n",
       "    </tr>\n",
       "  </tbody>\n",
       "</table>\n",
       "</div>"
      ],
      "text/plain": [
       "               State District        Date  Year  Month  Avg_rainfall  \\\n",
       "0  Andaman & Nicobar  Nicobar  2022-01-01  2022      1           0.0   \n",
       "1  Andaman & Nicobar  Nicobar  2022-01-02  2022      1           0.0   \n",
       "2  Andaman & Nicobar  Nicobar  2022-01-03  2022      1           0.0   \n",
       "3  Andaman & Nicobar  Nicobar  2022-01-04  2022      1           0.0   \n",
       "4  Andaman & Nicobar  Nicobar  2022-01-05  2022      1           0.0   \n",
       "\n",
       "      Agency_name  \n",
       "0  IMD GRID MODEL  \n",
       "1  IMD GRID MODEL  \n",
       "2  IMD GRID MODEL  \n",
       "3  IMD GRID MODEL  \n",
       "4  IMD GRID MODEL  "
      ]
     },
     "execution_count": 46,
     "metadata": {},
     "output_type": "execute_result"
    }
   ],
   "source": [
    "data.head()"
   ]
  },
  {
   "cell_type": "code",
   "execution_count": 54,
   "id": "ff7a768e",
   "metadata": {
    "scrolled": true
   },
   "outputs": [
    {
     "name": "stdout",
     "output_type": "stream",
     "text": [
      "<class 'pandas.core.frame.DataFrame'>\n",
      "Int64Index: 30 entries, 21270 to 21299\n",
      "Data columns (total 7 columns):\n",
      " #   Column        Non-Null Count  Dtype  \n",
      "---  ------        --------------  -----  \n",
      " 0   State         30 non-null     object \n",
      " 1   District      30 non-null     object \n",
      " 2   Date          30 non-null     object \n",
      " 3   Year          30 non-null     int64  \n",
      " 4   Month         30 non-null     int64  \n",
      " 5   Avg_rainfall  30 non-null     float64\n",
      " 6   Agency_name   30 non-null     object \n",
      "dtypes: float64(1), int64(2), object(4)\n",
      "memory usage: 1.9+ KB\n"
     ]
    }
   ],
   "source": [
    "data_uttarkashi=data[data['District']=='Uttarkashi']\n",
    "data_uttarkashi.info()"
   ]
  },
  {
   "cell_type": "code",
   "execution_count": 55,
   "id": "caa94398",
   "metadata": {},
   "outputs": [
    {
     "data": {
      "text/html": [
       "<div>\n",
       "<style scoped>\n",
       "    .dataframe tbody tr th:only-of-type {\n",
       "        vertical-align: middle;\n",
       "    }\n",
       "\n",
       "    .dataframe tbody tr th {\n",
       "        vertical-align: top;\n",
       "    }\n",
       "\n",
       "    .dataframe thead th {\n",
       "        text-align: right;\n",
       "    }\n",
       "</style>\n",
       "<table border=\"1\" class=\"dataframe\">\n",
       "  <thead>\n",
       "    <tr style=\"text-align: right;\">\n",
       "      <th></th>\n",
       "      <th>Date</th>\n",
       "      <th>Avg_rainfall</th>\n",
       "    </tr>\n",
       "  </thead>\n",
       "  <tbody>\n",
       "    <tr>\n",
       "      <th>21270</th>\n",
       "      <td>2022-01-01</td>\n",
       "      <td>0.000000</td>\n",
       "    </tr>\n",
       "    <tr>\n",
       "      <th>21271</th>\n",
       "      <td>2022-01-02</td>\n",
       "      <td>0.000000</td>\n",
       "    </tr>\n",
       "    <tr>\n",
       "      <th>21272</th>\n",
       "      <td>2022-01-03</td>\n",
       "      <td>0.000000</td>\n",
       "    </tr>\n",
       "    <tr>\n",
       "      <th>21273</th>\n",
       "      <td>2022-01-04</td>\n",
       "      <td>0.000000</td>\n",
       "    </tr>\n",
       "    <tr>\n",
       "      <th>21274</th>\n",
       "      <td>2022-01-05</td>\n",
       "      <td>4.965986</td>\n",
       "    </tr>\n",
       "  </tbody>\n",
       "</table>\n",
       "</div>"
      ],
      "text/plain": [
       "             Date  Avg_rainfall\n",
       "21270  2022-01-01      0.000000\n",
       "21271  2022-01-02      0.000000\n",
       "21272  2022-01-03      0.000000\n",
       "21273  2022-01-04      0.000000\n",
       "21274  2022-01-05      4.965986"
      ]
     },
     "execution_count": 55,
     "metadata": {},
     "output_type": "execute_result"
    }
   ],
   "source": [
    "data_uttarkashi=data_uttarkashi.drop(['State','District','Year','Agency_name','Month'],axis=1)\n",
    "data_uttarkashi.head()"
   ]
  },
  {
   "cell_type": "code",
   "execution_count": 56,
   "id": "6e027003",
   "metadata": {},
   "outputs": [
    {
     "name": "stdout",
     "output_type": "stream",
     "text": [
      "<class 'pandas.core.frame.DataFrame'>\n",
      "Int64Index: 30 entries, 21270 to 21299\n",
      "Data columns (total 2 columns):\n",
      " #   Column        Non-Null Count  Dtype  \n",
      "---  ------        --------------  -----  \n",
      " 0   Date          30 non-null     object \n",
      " 1   Avg_rainfall  30 non-null     float64\n",
      "dtypes: float64(1), object(1)\n",
      "memory usage: 720.0+ bytes\n"
     ]
    }
   ],
   "source": [
    "data_uttarkashi.info()"
   ]
  },
  {
   "cell_type": "code",
   "execution_count": 57,
   "id": "acdbfe05",
   "metadata": {},
   "outputs": [],
   "source": [
    "data_uttarkashi['Date']=data_uttarkashi['Date'].str.replace('2022-01-','').astype(int)"
   ]
  },
  {
   "cell_type": "code",
   "execution_count": 58,
   "id": "ba6ddb4f",
   "metadata": {},
   "outputs": [
    {
     "name": "stdout",
     "output_type": "stream",
     "text": [
      "<class 'pandas.core.frame.DataFrame'>\n",
      "Int64Index: 30 entries, 21270 to 21299\n",
      "Data columns (total 2 columns):\n",
      " #   Column        Non-Null Count  Dtype  \n",
      "---  ------        --------------  -----  \n",
      " 0   Date          30 non-null     int32  \n",
      " 1   Avg_rainfall  30 non-null     float64\n",
      "dtypes: float64(1), int32(1)\n",
      "memory usage: 600.0 bytes\n"
     ]
    }
   ],
   "source": [
    "data_uttarkashi.info(0)"
   ]
  },
  {
   "cell_type": "code",
   "execution_count": 63,
   "id": "4954154e",
   "metadata": {},
   "outputs": [
    {
     "data": {
      "image/png": "[encoded data removed]",
      "text/plain": [
       "<Figure size 864x504 with 1 Axes>"
      ]
     },
     "metadata": {
      "needs_background": "light"
     },
     "output_type": "display_data"
    }
   ],
   "source": [
    "plt.figure(figsize=(12,7)) \n",
    "plt.scatter(data_uttarkashi['Date'],data_uttarkashi['Avg_rainfall'],label='Daily Rainfall in Uttarkashi')\n",
    "plt.xlabel('Day')\n",
    "plt.ylabel('Rainfall in mm')\n",
    "plt.xticks(data_uttarkashi['Date'])\n",
    "plt.title('Uttarkashi dist. daily rainfall(in mm) in January 2022')\n",
    "plt.tight_layout()\n",
    "plt.legend()\n",
    "plt.grid()\n",
    "plt.show()"
   ]
  },
  {
   "cell_type": "code",
   "execution_count": null,
   "id": "d3b5e157",
   "metadata": {},
   "outputs": [],
   "source": []
  }
 ],
 "metadata": {
  "kernelspec": {
   "display_name": "Python 3 (ipykernel)",
   "language": "python",
   "name": "python3"
  },
  "language_info": {
   "codemirror_mode": {
    "name": "ipython",
    "version": 3
   },
   "file_extension": ".py",
   "mimetype": "text/x-python",
   "name": "python",
   "nbconvert_exporter": "python",
   "pygments_lexer": "ipython3",
   "version": "3.9.0"
  }
 },
 "nbformat": 4,
 "nbformat_minor": 5
}
